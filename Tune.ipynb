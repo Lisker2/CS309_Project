{
  "cells": [
    {
      "cell_type": "markdown",
      "metadata": {
        "id": "view-in-github",
        "colab_type": "text"
      },
      "source": [
        "<a href=\"https://colab.research.google.com/github/Lisker2/CS309_Project/blob/main/Tune.ipynb\" target=\"_parent\"><img src=\"https://colab.research.google.com/assets/colab-badge.svg\" alt=\"Open In Colab\"/></a>"
      ]
    },
    {
      "cell_type": "code",
      "source": [
        "!git clone https://github.com/nadavbra/shared_utils.git\n",
        "!git clone https://github.com/nadavbra/protein_bert\n",
        "!git clone https://github.com/khanhlee/bert-enhancer\n",
        "!git clone https://github.com/Lisker2/CS309_Project "
      ],
      "metadata": {
        "id": "IOn3RzoQ0XLk"
      },
      "id": "IOn3RzoQ0XLk",
      "execution_count": null,
      "outputs": []
    },
    {
      "cell_type": "code",
      "source": [
        "# first install python 3.6\n",
        "!sudo apt-get update -y\n",
        "!sudo apt-get install python3.6\n",
        "# change alternatives\n",
        "!sudo update-alternatives --install /usr/bin/python3 python3 /usr/bin/python3.6 1\n",
        "# select python version\n",
        "!sudo update-alternatives --config python3\n",
        "# check python version\n",
        "!python --version\n",
        "# install pip for new python \n",
        "!sudo apt-get install python3.6-distutils\n",
        "!wget https://bootstrap.pypa.io/get-pip.py\n",
        "!python get-pip.py\n",
        "# upgrade pip\n",
        "!sudo apt install python3-pip\n",
        "!python -m pip install --upgrade pip\n",
        "!python3.6 -m pip install tensorflow==2.4.0\n",
        "!python3.6 -m pip install protein-bert\n",
        "!python3.6 -m pip install matplotlib\n",
        "!python3.6 -m pip  install scikit-learn\n",
        "!python3.6 -m pip  install numpy\n",
        "!python3.6 -m pip  install pandas\n",
        "!python3.6 -m pip  install scipy\n",
        "!python3.6 -m pip  install ipykernel"
      ],
      "metadata": {
        "id": "lqZulh3z0ufA"
      },
      "id": "lqZulh3z0ufA",
      "execution_count": null,
      "outputs": []
    },
    {
      "cell_type": "code",
      "execution_count": 28,
      "id": "0ec919e5",
      "metadata": {
        "id": "0ec919e5",
        "colab": {
          "base_uri": "https://localhost:8080/"
        },
        "outputId": "08158837-2bb7-4242-f736-61181863774f"
      },
      "outputs": [
        {
          "output_type": "stream",
          "name": "stdout",
          "text": [
            "2023-05-05 00:38:48.907897: I tensorflow/stream_executor/platform/default/dso_loader.cc:49] Successfully opened dynamic library libcudart.so.11.0\n",
            "sequence_length 202\n",
            "[2023_05_05-00:38:52] Training set: Filtered out 0 of 2768 (0.0%) records of lengths exceeding 200.\n",
            "[2023_05_05-00:38:52] Validation set: Filtered out 0 of 300 (0.0%) records of lengths exceeding 200.\n",
            "[2023_05_05-00:38:52] Training with frozen pretrained layers...\n",
            "2023-05-05 00:38:52.299541: I tensorflow/compiler/jit/xla_cpu_device.cc:41] Not creating XLA devices, tf_xla_enable_xla_devices not set\n",
            "2023-05-05 00:38:52.299976: W tensorflow/stream_executor/platform/default/dso_loader.cc:60] Could not load dynamic library 'libcuda.so.1'; dlerror: libcuda.so.1: cannot open shared object file: No such file or directory; LD_LIBRARY_PATH: /usr/local/nvidia/lib:/usr/local/nvidia/lib64\n",
            "2023-05-05 00:38:52.300046: W tensorflow/stream_executor/cuda/cuda_driver.cc:326] failed call to cuInit: UNKNOWN ERROR (303)\n",
            "2023-05-05 00:38:52.300094: I tensorflow/stream_executor/cuda/cuda_diagnostics.cc:156] kernel driver does not appear to be running on this host (6249d7089d30): /proc/driver/nvidia/version does not exist\n",
            "2023-05-05 00:38:52.302066: I tensorflow/compiler/jit/xla_gpu_device.cc:99] Not creating XLA devices, tf_xla_enable_xla_devices not set\n",
            "2023-05-05 00:38:54.285248: I tensorflow/compiler/mlir/mlir_graph_optimization_pass.cc:116] None of the MLIR optimization passes are enabled (registered 2)\n",
            "2023-05-05 00:38:54.285848: I tensorflow/core/platform/profile_utils/cpu_utils.cc:112] CPU Frequency: 2299995000 Hz\n",
            "Epoch 1/40\n",
            "87/87 [==============================] - 21s 147ms/step - loss: 0.6172 - val_loss: 0.5243\n",
            "Epoch 2/40\n",
            "87/87 [==============================] - 10s 118ms/step - loss: 0.6011 - val_loss: 0.5414\n",
            "\n",
            "Epoch 00002: ReduceLROnPlateau reducing learning rate to 0.0024999999441206455.\n",
            "Epoch 3/40\n",
            "87/87 [==============================] - 10s 116ms/step - loss: 0.6468 - val_loss: 0.5093\n",
            "Epoch 4/40\n",
            "87/87 [==============================] - 10s 113ms/step - loss: 0.6096 - val_loss: 0.4879\n",
            "Epoch 5/40\n",
            "87/87 [==============================] - 10s 115ms/step - loss: 0.6411 - val_loss: 0.4898\n",
            "\n",
            "Epoch 00005: ReduceLROnPlateau reducing learning rate to 0.0006249999860301614.\n",
            "Epoch 6/40\n",
            "87/87 [==============================] - 10s 110ms/step - loss: 0.5376 - val_loss: 0.4847\n",
            "Epoch 7/40\n",
            "87/87 [==============================] - 10s 109ms/step - loss: 0.5586 - val_loss: 0.4911\n",
            "\n",
            "Epoch 00007: ReduceLROnPlateau reducing learning rate to 0.00015624999650754035.\n",
            "Epoch 8/40\n",
            "87/87 [==============================] - 10s 113ms/step - loss: 0.5458 - val_loss: 0.4836\n",
            "Epoch 9/40\n",
            "87/87 [==============================] - 9s 109ms/step - loss: 0.5635 - val_loss: 0.4834\n",
            "Epoch 10/40\n",
            "87/87 [==============================] - 10s 110ms/step - loss: 0.5331 - val_loss: 0.4837\n",
            "\n",
            "Epoch 00010: ReduceLROnPlateau reducing learning rate to 3.9062499126885086e-05.\n",
            "Epoch 11/40\n",
            "87/87 [==============================] - 9s 108ms/step - loss: 0.5663 - val_loss: 0.4834\n",
            "\n",
            "Epoch 00011: ReduceLROnPlateau reducing learning rate to 1e-05.\n",
            "[2023_05_05-00:40:53] Training the entire fine-tuned model...\n",
            "[2023_05_05-00:41:03] Incompatible number of optimizer weights - will not initialize them.\n",
            "Epoch 1/40\n",
            "87/87 [==============================] - 38s 352ms/step - loss: 0.5559 - val_loss: 0.4832\n",
            "Epoch 2/40\n",
            "87/87 [==============================] - 27s 309ms/step - loss: 0.5575 - val_loss: 0.4973\n",
            "\n",
            "Epoch 00002: ReduceLROnPlateau reducing learning rate to 2.499999936844688e-05.\n",
            "Epoch 3/40\n",
            "87/87 [==============================] - 26s 297ms/step - loss: 0.5430 - val_loss: 0.4998\n",
            "\n",
            "Epoch 00003: ReduceLROnPlateau reducing learning rate to 1e-05.\n",
            "[2023_05_05-00:42:34] Training on final epochs of sequence length 1024...\n",
            "[2023_05_05-00:42:34] Training set: Filtered out 0 of 2768 (0.0%) records of lengths exceeding 1022.\n",
            "[2023_05_05-00:42:34] Validation set: Filtered out 0 of 300 (0.0%) records of lengths exceeding 1022.\n",
            "462/462 [==============================] - 141s 289ms/step - loss: 0.5555 - val_loss: 0.4878\n",
            "Test-set performance:\n",
            "               # records       AUC\n",
            "Model seq len                     \n",
            "202                  300  0.841244\n",
            "All                  300  0.841244\n",
            "Confusion matrix:\n",
            "     0    1\n",
            "0  129   21\n",
            "1   49  101\n",
            "AAGTTGAATGCATTTTTTGTGTTCTGCTTGAGCAAAAATAGAACAACAGATGGCCATAAATTTAGGGAAGCTTAATGAATTGGCAAGTTATGACATAAAGTAAGTTGGAATTGGGTAACTTAAATGGCTATTAACAAAGGAGGAAAAATCTTCAAAAATGTTATTTTTTTTTGGAAAATAGAACACATTATAATTTAGAT 0\n"
          ]
        }
      ],
      "source": [
        "!python3.6 /content/CS309_Project/code_py/tune.py"
      ]
    }
  ],
  "metadata": {
    "kernelspec": {
      "display_name": "Python 3",
      "language": "python",
      "name": "python3"
    },
    "language_info": {
      "codemirror_mode": {
        "name": "ipython",
        "version": 3
      },
      "file_extension": ".py",
      "mimetype": "text/x-python",
      "name": "python",
      "nbconvert_exporter": "python",
      "pygments_lexer": "ipython3",
      "version": "3.6.13"
    },
    "colab": {
      "provenance": [],
      "machine_shape": "hm",
      "include_colab_link": true
    },
    "accelerator": "TPU",
    "gpuClass": "premium"
  },
  "nbformat": 4,
  "nbformat_minor": 5
}