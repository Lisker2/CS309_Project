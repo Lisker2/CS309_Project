{
  "cells": [
    {
      "cell_type": "markdown",
      "metadata": {
        "id": "view-in-github",
        "colab_type": "text"
      },
      "source": [
        "<a href=\"https://colab.research.google.com/github/Lisker2/CS309_Project/blob/main/Tune.ipynb\" target=\"_parent\"><img src=\"https://colab.research.google.com/assets/colab-badge.svg\" alt=\"Open In Colab\"/></a>"
      ]
    },
    {
      "cell_type": "code",
      "source": [
        "!git clone https://github.com/nadavbra/shared_utils.git\n",
        "!git clone https://github.com/nadavbra/protein_bert\n",
        "!git clone https://github.com/khanhlee/bert-enhancer\n",
        "!git clone https://github.com/Lisker2/CS309_Project "
      ],
      "metadata": {
        "colab": {
          "base_uri": "https://localhost:8080/"
        },
        "id": "IOn3RzoQ0XLk",
        "outputId": "5f34fbb1-bd97-496e-b86e-04b03a36d498"
      },
      "id": "IOn3RzoQ0XLk",
      "execution_count": 24,
      "outputs": [
        {
          "output_type": "stream",
          "name": "stdout",
          "text": [
            "fatal: destination path 'shared_utils' already exists and is not an empty directory.\n",
            "fatal: destination path 'protein_bert' already exists and is not an empty directory.\n",
            "fatal: destination path 'bert-enhancer' already exists and is not an empty directory.\n",
            "Cloning into 'CS309_Project'...\n",
            "remote: Enumerating objects: 23, done.\u001b[K\n",
            "remote: Counting objects: 100% (23/23), done.\u001b[K\n",
            "remote: Compressing objects: 100% (20/20), done.\u001b[K\n",
            "remote: Total 23 (delta 5), reused 0 (delta 0), pack-reused 0\u001b[K\n",
            "Unpacking objects: 100% (23/23), 241.71 KiB | 2.81 MiB/s, done.\n"
          ]
        }
      ]
    },
    {
      "cell_type": "code",
      "source": [
        "# first install python 3.6\n",
        "!sudo apt-get update -y\n",
        "!sudo apt-get install python3.6\n",
        "# change alternatives\n",
        "!sudo update-alternatives --install /usr/bin/python3 python3 /usr/bin/python3.6 1\n",
        "# select python version\n",
        "!sudo update-alternatives --config python3\n",
        "# check python version\n",
        "!python --version\n",
        "# install pip for new python \n",
        "!sudo apt-get install python3.6-distutils\n",
        "!wget https://bootstrap.pypa.io/get-pip.py\n",
        "!python get-pip.py\n",
        "# upgrade pip\n",
        "!sudo apt install python3-pip\n",
        "!python -m pip install --upgrade pip\n",
        "!python3.6 -m pip install tensorflow==2.4.0\n",
        "!python3.6 -m pip install protein-bert\n",
        "!python3.6 -m pip install matplotlib\n",
        "!python3.6 -m pip  install scikit-learn\n",
        "!python3.6 -m pip  install numpy\n",
        "!python3.6 -m pip  install pandas\n",
        "!python3.6 -m pip  install scipy\n",
        "!python3.6 -m pip  install ipykernel"
      ],
      "metadata": {
        "id": "lqZulh3z0ufA"
      },
      "id": "lqZulh3z0ufA",
      "execution_count": null,
      "outputs": []
    },
    {
      "cell_type": "code",
      "execution_count": 25,
      "id": "0ec919e5",
      "metadata": {
        "id": "0ec919e5",
        "colab": {
          "base_uri": "https://localhost:8080/"
        },
        "outputId": "488387d2-745a-415c-8669-14643a75d5a5"
      },
      "outputs": [
        {
          "output_type": "stream",
          "name": "stdout",
          "text": [
            "2023-05-05 00:09:07.355092: I tensorflow/stream_executor/platform/default/dso_loader.cc:49] Successfully opened dynamic library libcudart.so.11.0\n",
            "sequence_length 202\n",
            "[2023_05_05-00:09:10] Training set: Filtered out 0 of 2768 (0.0%) records of lengths exceeding 200.\n",
            "[2023_05_05-00:09:10] Validation set: Filtered out 0 of 300 (0.0%) records of lengths exceeding 200.\n",
            "[2023_05_05-00:09:10] Training with frozen pretrained layers...\n",
            "2023-05-05 00:09:10.834732: I tensorflow/compiler/jit/xla_cpu_device.cc:41] Not creating XLA devices, tf_xla_enable_xla_devices not set\n",
            "2023-05-05 00:09:10.835075: W tensorflow/stream_executor/platform/default/dso_loader.cc:60] Could not load dynamic library 'libcuda.so.1'; dlerror: libcuda.so.1: cannot open shared object file: No such file or directory; LD_LIBRARY_PATH: /usr/local/nvidia/lib:/usr/local/nvidia/lib64\n",
            "2023-05-05 00:09:10.835101: W tensorflow/stream_executor/cuda/cuda_driver.cc:326] failed call to cuInit: UNKNOWN ERROR (303)\n",
            "2023-05-05 00:09:10.835129: I tensorflow/stream_executor/cuda/cuda_diagnostics.cc:156] kernel driver does not appear to be running on this host (6249d7089d30): /proc/driver/nvidia/version does not exist\n",
            "2023-05-05 00:09:10.837081: I tensorflow/compiler/jit/xla_gpu_device.cc:99] Not creating XLA devices, tf_xla_enable_xla_devices not set\n",
            "2023-05-05 00:09:12.945466: I tensorflow/compiler/mlir/mlir_graph_optimization_pass.cc:116] None of the MLIR optimization passes are enabled (registered 2)\n",
            "2023-05-05 00:09:12.945973: I tensorflow/core/platform/profile_utils/cpu_utils.cc:112] CPU Frequency: 2299995000 Hz\n",
            "Epoch 1/40\n",
            "87/87 [==============================] - 21s 143ms/step - loss: 0.6406 - val_loss: 0.5755\n",
            "Epoch 2/40\n",
            "87/87 [==============================] - 10s 113ms/step - loss: 0.6017 - val_loss: 0.5362\n",
            "Epoch 3/40\n",
            "87/87 [==============================] - 10s 113ms/step - loss: 0.5838 - val_loss: 0.5595\n",
            "\n",
            "Epoch 00003: ReduceLROnPlateau reducing learning rate to 0.0024999999441206455.\n",
            "Epoch 4/40\n",
            "87/87 [==============================] - 10s 110ms/step - loss: 0.6522 - val_loss: 0.5850\n",
            "\n",
            "Epoch 00004: ReduceLROnPlateau reducing learning rate to 0.0006249999860301614.\n",
            "[2023_05_05-00:10:02] Training the entire fine-tuned model...\n",
            "[2023_05_05-00:10:12] Incompatible number of optimizer weights - will not initialize them.\n",
            "Epoch 1/40\n",
            "87/87 [==============================] - 36s 336ms/step - loss: 0.5777 - val_loss: 0.5307\n",
            "Epoch 2/40\n",
            "87/87 [==============================] - 26s 295ms/step - loss: 0.5416 - val_loss: 0.5240\n",
            "Epoch 3/40\n",
            "87/87 [==============================] - 26s 294ms/step - loss: 0.5361 - val_loss: 0.5324\n",
            "\n",
            "Epoch 00003: ReduceLROnPlateau reducing learning rate to 2.499999936844688e-05.\n",
            "Epoch 4/40\n",
            "87/87 [==============================] - 25s 289ms/step - loss: 0.5380 - val_loss: 0.5254\n",
            "\n",
            "Epoch 00004: ReduceLROnPlateau reducing learning rate to 1e-05.\n",
            "[2023_05_05-00:12:06] Training on final epochs of sequence length 1024...\n",
            "[2023_05_05-00:12:06] Training set: Filtered out 0 of 2768 (0.0%) records of lengths exceeding 1022.\n",
            "[2023_05_05-00:12:06] Validation set: Filtered out 0 of 300 (0.0%) records of lengths exceeding 1022.\n",
            "462/462 [==============================] - 138s 283ms/step - loss: 0.5478 - val_loss: 0.5261\n",
            "Test-set performance:\n",
            "               # records       AUC\n",
            "Model seq len                     \n",
            "202                  300  0.829467\n",
            "All                  300  0.829467\n",
            "Confusion matrix:\n",
            "     0   1\n",
            "0  128  22\n",
            "1   62  88\n",
            "AAGGGGGACTTTCAAAATAAGCCTTTAAAAGGAAAGCACTTTTTACCTATATTTTTCTTTTCTTTTTTTTCTTTTTTAAAAGTTGAGCTTATAAGATCATGCCTGGTGAAGCTGTGTTCATCCACTCCTCTCAGCATTAGTGGAAGAATTAGAGTATTAACGACCTTATAGACCAGGTATTTTGTAGCCTCCTTTACAGT 1\n"
          ]
        }
      ],
      "source": [
        "!python3.6 /content/CS309_Project/code_py/tune.py"
      ]
    }
  ],
  "metadata": {
    "kernelspec": {
      "display_name": "Python 3",
      "language": "python",
      "name": "python3"
    },
    "language_info": {
      "codemirror_mode": {
        "name": "ipython",
        "version": 3
      },
      "file_extension": ".py",
      "mimetype": "text/x-python",
      "name": "python",
      "nbconvert_exporter": "python",
      "pygments_lexer": "ipython3",
      "version": "3.6.13"
    },
    "colab": {
      "provenance": [],
      "machine_shape": "hm",
      "include_colab_link": true
    },
    "accelerator": "TPU",
    "gpuClass": "premium"
  },
  "nbformat": 4,
  "nbformat_minor": 5
}