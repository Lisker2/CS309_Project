{
  "cells": [
    {
      "cell_type": "markdown",
      "metadata": {
        "id": "view-in-github",
        "colab_type": "text"
      },
      "source": [
        "<a href=\"https://colab.research.google.com/github/Lisker2/CS309_Project/blob/main/ProteinBert_A_Demo.ipynb\" target=\"_parent\"><img src=\"https://colab.research.google.com/assets/colab-badge.svg\" alt=\"Open In Colab\"/></a>"
      ]
    },
    {
      "cell_type": "markdown",
      "metadata": {
        "id": "fEiC7T1YATHA"
      },
      "source": [
        "# Bert"
      ]
    },
    {
      "cell_type": "markdown",
      "metadata": {
        "id": "P_98j0Q4Aetl"
      },
      "source": [
        "## Library"
      ]
    },
    {
      "cell_type": "code",
      "execution_count": null,
      "metadata": {
        "id": "KK3uZIIVn8FF"
      },
      "outputs": [],
      "source": [
        "!git clone https://github.com/nadavbra/shared_utils.git\n",
        "!git clone https://github.com/nadavbra/protein_bert\n",
        "!git clone https://github.com/khanhlee/bert-enhancer\n",
        "!pip install protein-bert"
      ]
    },
    {
      "cell_type": "code",
      "execution_count": null,
      "metadata": {
        "id": "43T-G_B8AyQc"
      },
      "outputs": [],
      "source": [
        "!wget --no-check-certificate \\\n",
        "    https://storage.googleapis.com/mledu-datasets/inception_v3_weights_tf_dim_ordering_tf_kernels_notop.h5 \\\n",
        "    -O /tmp/inception_v3_weights_tf_dim_ordering_tf_kernels_notop.h5"
      ]
    },
    {
      "cell_type": "code",
      "execution_count": null,
      "metadata": {
        "id": "B4nIQG6eoZDs"
      },
      "outputs": [],
      "source": [
        "import tensorflow as tf\n",
        "import pandas as pd\n",
        "from tensorflow import keras\n",
        "import numpy as np\n",
        "import matplotlib.pyplot as plt\n",
        "from scipy.stats import spearmanr\n",
        "from sklearn.model_selection import train_test_split\n",
        "\n",
        "from proteinbert import OutputType, OutputSpec, FinetuningModelGenerator, load_pretrained_model, finetune, evaluate_by_len\n",
        "from proteinbert.conv_and_global_attention_model import get_model_with_hidden_layers_as_outputs\n",
        "from proteinbert import load_pretrained_model"
      ]
    },
    {
      "cell_type": "code",
      "execution_count": null,
      "metadata": {
        "id": "wkIBEOCmqYcG"
      },
      "outputs": [],
      "source": [
        "pretrained_model_generator, input_encoder = load_pretrained_model(\"/content/\")"
      ]
    },
    {
      "cell_type": "markdown",
      "metadata": {
        "id": "Ftzu3YNwAWTl"
      },
      "source": [
        "## Stability"
      ]
    },
    {
      "cell_type": "code",
      "execution_count": null,
      "metadata": {
        "id": "crDkr4Arozij"
      },
      "outputs": [],
      "source": [
        "train = pd.read_csv('protein_bert/protein_benchmarks/stability.train.csv')\n",
        "valid = pd.read_csv('protein_bert/protein_benchmarks/stability.valid.csv')\n",
        "test = pd.read_csv('protein_bert/protein_benchmarks/stability.test.csv')\n",
        "\n",
        "train_X = train['seq']\n",
        "valid_X = valid['seq']\n",
        "test_X = test['seq']"
      ]
    },
    {
      "cell_type": "code",
      "execution_count": null,
      "metadata": {
        "id": "MP83abVwwFmH"
      },
      "outputs": [],
      "source": [
        "train_Y = train['label']\n",
        "valid_Y = valid['label']\n",
        "test_Y = test['label']"
      ]
    },
    {
      "cell_type": "code",
      "execution_count": null,
      "metadata": {
        "colab": {
          "base_uri": "https://localhost:8080/",
          "height": 206
        },
        "id": "Kf5bs2zYpOvJ",
        "outputId": "343bcd0d-fbff-46bf-c128-d237a842d4c1"
      },
      "outputs": [
        {
          "data": {
            "text/html": [
              "\n",
              "  <div id=\"df-cb01ffba-308b-4358-82f4-880794bcb800\">\n",
              "    <div class=\"colab-df-container\">\n",
              "      <div>\n",
              "<style scoped>\n",
              "    .dataframe tbody tr th:only-of-type {\n",
              "        vertical-align: middle;\n",
              "    }\n",
              "\n",
              "    .dataframe tbody tr th {\n",
              "        vertical-align: top;\n",
              "    }\n",
              "\n",
              "    .dataframe thead th {\n",
              "        text-align: right;\n",
              "    }\n",
              "</style>\n",
              "<table border=\"1\" class=\"dataframe\">\n",
              "  <thead>\n",
              "    <tr style=\"text-align: right;\">\n",
              "      <th></th>\n",
              "      <th>seq</th>\n",
              "      <th>label</th>\n",
              "    </tr>\n",
              "  </thead>\n",
              "  <tbody>\n",
              "    <tr>\n",
              "      <th>0</th>\n",
              "      <td>DQSVRKLVRKLPDEGLDREKVKTYLDKLGVDREELQKFSDAIGLES...</td>\n",
              "      <td>-0.21</td>\n",
              "    </tr>\n",
              "    <tr>\n",
              "      <th>1</th>\n",
              "      <td>GSSDIEITVEGKEQADKVIEEMKRRNLEVHVEEHNGQYIDKASLES...</td>\n",
              "      <td>-0.95</td>\n",
              "    </tr>\n",
              "    <tr>\n",
              "      <th>2</th>\n",
              "      <td>GSSTERRTFDDETQARKAAEEAKKKGLQVTVTKENGQYHVDFN</td>\n",
              "      <td>0.42</td>\n",
              "    </tr>\n",
              "    <tr>\n",
              "      <th>3</th>\n",
              "      <td>MLDDFTHELMLDDFTHELMLDDFTHELMLDDFTHELSSNGGGSNGS...</td>\n",
              "      <td>0.10</td>\n",
              "    </tr>\n",
              "    <tr>\n",
              "      <th>4</th>\n",
              "      <td>GSSTQTITTTNKENAEQIAREAKKKGLDVTIRKNNGTWEIHWD</td>\n",
              "      <td>0.76</td>\n",
              "    </tr>\n",
              "  </tbody>\n",
              "</table>\n",
              "</div>\n",
              "      <button class=\"colab-df-convert\" onclick=\"convertToInteractive('df-cb01ffba-308b-4358-82f4-880794bcb800')\"\n",
              "              title=\"Convert this dataframe to an interactive table.\"\n",
              "              style=\"display:none;\">\n",
              "        \n",
              "  <svg xmlns=\"http://www.w3.org/2000/svg\" height=\"24px\"viewBox=\"0 0 24 24\"\n",
              "       width=\"24px\">\n",
              "    <path d=\"M0 0h24v24H0V0z\" fill=\"none\"/>\n",
              "    <path d=\"M18.56 5.44l.94 2.06.94-2.06 2.06-.94-2.06-.94-.94-2.06-.94 2.06-2.06.94zm-11 1L8.5 8.5l.94-2.06 2.06-.94-2.06-.94L8.5 2.5l-.94 2.06-2.06.94zm10 10l.94 2.06.94-2.06 2.06-.94-2.06-.94-.94-2.06-.94 2.06-2.06.94z\"/><path d=\"M17.41 7.96l-1.37-1.37c-.4-.4-.92-.59-1.43-.59-.52 0-1.04.2-1.43.59L10.3 9.45l-7.72 7.72c-.78.78-.78 2.05 0 2.83L4 21.41c.39.39.9.59 1.41.59.51 0 1.02-.2 1.41-.59l7.78-7.78 2.81-2.81c.8-.78.8-2.07 0-2.86zM5.41 20L4 18.59l7.72-7.72 1.47 1.35L5.41 20z\"/>\n",
              "  </svg>\n",
              "      </button>\n",
              "      \n",
              "  <style>\n",
              "    .colab-df-container {\n",
              "      display:flex;\n",
              "      flex-wrap:wrap;\n",
              "      gap: 12px;\n",
              "    }\n",
              "\n",
              "    .colab-df-convert {\n",
              "      background-color: #E8F0FE;\n",
              "      border: none;\n",
              "      border-radius: 50%;\n",
              "      cursor: pointer;\n",
              "      display: none;\n",
              "      fill: #1967D2;\n",
              "      height: 32px;\n",
              "      padding: 0 0 0 0;\n",
              "      width: 32px;\n",
              "    }\n",
              "\n",
              "    .colab-df-convert:hover {\n",
              "      background-color: #E2EBFA;\n",
              "      box-shadow: 0px 1px 2px rgba(60, 64, 67, 0.3), 0px 1px 3px 1px rgba(60, 64, 67, 0.15);\n",
              "      fill: #174EA6;\n",
              "    }\n",
              "\n",
              "    [theme=dark] .colab-df-convert {\n",
              "      background-color: #3B4455;\n",
              "      fill: #D2E3FC;\n",
              "    }\n",
              "\n",
              "    [theme=dark] .colab-df-convert:hover {\n",
              "      background-color: #434B5C;\n",
              "      box-shadow: 0px 1px 3px 1px rgba(0, 0, 0, 0.15);\n",
              "      filter: drop-shadow(0px 1px 2px rgba(0, 0, 0, 0.3));\n",
              "      fill: #FFFFFF;\n",
              "    }\n",
              "  </style>\n",
              "\n",
              "      <script>\n",
              "        const buttonEl =\n",
              "          document.querySelector('#df-cb01ffba-308b-4358-82f4-880794bcb800 button.colab-df-convert');\n",
              "        buttonEl.style.display =\n",
              "          google.colab.kernel.accessAllowed ? 'block' : 'none';\n",
              "\n",
              "        async function convertToInteractive(key) {\n",
              "          const element = document.querySelector('#df-cb01ffba-308b-4358-82f4-880794bcb800');\n",
              "          const dataTable =\n",
              "            await google.colab.kernel.invokeFunction('convertToInteractive',\n",
              "                                                     [key], {});\n",
              "          if (!dataTable) return;\n",
              "\n",
              "          const docLinkHtml = 'Like what you see? Visit the ' +\n",
              "            '<a target=\"_blank\" href=https://colab.research.google.com/notebooks/data_table.ipynb>data table notebook</a>'\n",
              "            + ' to learn more about interactive tables.';\n",
              "          element.innerHTML = '';\n",
              "          dataTable['output_type'] = 'display_data';\n",
              "          await google.colab.output.renderOutput(dataTable, element);\n",
              "          const docLink = document.createElement('div');\n",
              "          docLink.innerHTML = docLinkHtml;\n",
              "          element.appendChild(docLink);\n",
              "        }\n",
              "      </script>\n",
              "    </div>\n",
              "  </div>\n",
              "  "
            ],
            "text/plain": [
              "                                                 seq  label\n",
              "0  DQSVRKLVRKLPDEGLDREKVKTYLDKLGVDREELQKFSDAIGLES...  -0.21\n",
              "1  GSSDIEITVEGKEQADKVIEEMKRRNLEVHVEEHNGQYIDKASLES...  -0.95\n",
              "2        GSSTERRTFDDETQARKAAEEAKKKGLQVTVTKENGQYHVDFN   0.42\n",
              "3  MLDDFTHELMLDDFTHELMLDDFTHELMLDDFTHELSSNGGGSNGS...   0.10\n",
              "4        GSSTQTITTTNKENAEQIAREAKKKGLDVTIRKNNGTWEIHWD   0.76"
            ]
          },
          "execution_count": 5,
          "metadata": {},
          "output_type": "execute_result"
        }
      ],
      "source": [
        "train.head()"
      ]
    },
    {
      "cell_type": "code",
      "execution_count": null,
      "metadata": {
        "colab": {
          "base_uri": "https://localhost:8080/"
        },
        "id": "bZY3DoBzpR3w",
        "outputId": "f2d55639-273d-4567-8a05-49d55e5ecf05"
      },
      "outputs": [
        {
          "name": "stdout",
          "output_type": "stream",
          "text": [
            "sequence_length 52\n"
          ]
        }
      ],
      "source": [
        "sequence_length = max(train.seq.map(lambda x: len(x)).max(), \n",
        "             test.seq.map(lambda x: len(x)).max(), \n",
        "             valid.seq.map(lambda x: len(x)).max()) + 2\n",
        "print('sequence_length', sequence_length)"
      ]
    },
    {
      "cell_type": "code",
      "execution_count": null,
      "metadata": {
        "colab": {
          "base_uri": "https://localhost:8080/"
        },
        "id": "4D2OZ7MTt_ZK",
        "outputId": "eed8cd22-dbe1-49e9-e5b1-6436596e1873"
      },
      "outputs": [
        {
          "name": "stdout",
          "output_type": "stream",
          "text": [
            "<class 'pandas.core.series.Series'>\n",
            "(10000,)\n"
          ]
        }
      ],
      "source": [
        "print(type(train_X))\n",
        "print(train_X.shape)"
      ]
    },
    {
      "cell_type": "code",
      "execution_count": null,
      "metadata": {
        "id": "1w2yUQfXtwef"
      },
      "outputs": [],
      "source": [
        "train_X = input_encoder.encode_X(train_X, sequence_length)\n",
        "valid_X = input_encoder.encode_X(valid_X, sequence_length)\n",
        "test_X = input_encoder.encode_X(test_X, sequence_length)"
      ]
    },
    {
      "cell_type": "code",
      "execution_count": null,
      "metadata": {
        "colab": {
          "base_uri": "https://localhost:8080/"
        },
        "id": "OCebSBAgrUFY",
        "outputId": "5fe97931-6aea-47af-c091-3239dfffdcba"
      },
      "outputs": [
        {
          "name": "stderr",
          "output_type": "stream",
          "text": [
            "WARNING:absl:`lr` is deprecated in Keras optimizer, please use `learning_rate` or use the legacy optimizer, e.g.,tf.keras.optimizers.legacy.Adam.\n"
          ]
        }
      ],
      "source": [
        "model_generator = get_model_with_hidden_layers_as_outputs(pretrained_model_generator.create_model(sequence_length))"
      ]
    },
    {
      "cell_type": "code",
      "execution_count": null,
      "metadata": {
        "colab": {
          "base_uri": "https://localhost:8080/"
        },
        "id": "YIHqBmE9vXnu",
        "outputId": "4159a1ab-62e3-4164-c4ba-e9d591394599"
      },
      "outputs": [
        {
          "name": "stdout",
          "output_type": "stream",
          "text": [
            "157/157 [==============================] - 18s 98ms/step\n",
            "16/16 [==============================] - 1s 86ms/step\n",
            "16/16 [==============================] - 1s 85ms/step\n"
          ]
        }
      ],
      "source": [
        "local_representations_train, global_representations_train= model_generator.predict(train_X, batch_size = 8)\n",
        "local_representations_valid, global_representations_valid= model_generator.predict(valid_X, batch_size = 8)\n",
        "local_representations_test, global_representations_test= model_generator.predict(test_X, batch_size = 8)"
      ]
    },
    {
      "cell_type": "code",
      "execution_count": null,
      "metadata": {
        "colab": {
          "base_uri": "https://localhost:8080/"
        },
        "id": "r8JDgoDZ9ufh",
        "outputId": "d3517d47-0640-42ad-c2d9-06ab24503165"
      },
      "outputs": [
        {
          "name": "stdout",
          "output_type": "stream",
          "text": [
            "(10000, 52, 1562)\n"
          ]
        }
      ],
      "source": [
        "print(local_representations_train.shape)"
      ]
    },
    {
      "cell_type": "code",
      "execution_count": null,
      "metadata": {
        "colab": {
          "base_uri": "https://localhost:8080/"
        },
        "id": "PWDaCsYNwN3S",
        "outputId": "8267c0f0-412b-4163-f60b-5e09d3512094"
      },
      "outputs": [
        {
          "name": "stdout",
          "output_type": "stream",
          "text": [
            "Epoch 1/30\n",
            "157/157 [==============================] - 3s 15ms/step - loss: 0.6546 - mse: 0.6546 - val_loss: 0.2572 - val_mse: 0.2572 - lr: 0.0010\n",
            "Epoch 2/30\n",
            "153/157 [============================>.] - ETA: 0s - loss: 0.2762 - mse: 0.2762\n",
            "Epoch 2: ReduceLROnPlateau reducing learning rate to 0.0002500000118743628.\n",
            "157/157 [==============================] - 1s 9ms/step - loss: 0.2765 - mse: 0.2765 - val_loss: 0.2948 - val_mse: 0.2948 - lr: 0.0010\n",
            "Epoch 3/30\n",
            "157/157 [==============================] - 1s 9ms/step - loss: 0.2049 - mse: 0.2049 - val_loss: 0.2422 - val_mse: 0.2422 - lr: 2.5000e-04\n",
            "Epoch 4/30\n",
            "155/157 [============================>.] - ETA: 0s - loss: 0.1832 - mse: 0.1832\n",
            "Epoch 4: ReduceLROnPlateau reducing learning rate to 6.25000029685907e-05.\n",
            "157/157 [==============================] - 1s 9ms/step - loss: 0.1828 - mse: 0.1828 - val_loss: 0.2471 - val_mse: 0.2471 - lr: 2.5000e-04\n",
            "Epoch 5/30\n",
            "157/157 [==============================] - 1s 9ms/step - loss: 0.1638 - mse: 0.1638 - val_loss: 0.2281 - val_mse: 0.2281 - lr: 6.2500e-05\n",
            "Epoch 6/30\n",
            "154/157 [============================>.] - ETA: 0s - loss: 0.1613 - mse: 0.1613\n",
            "Epoch 6: ReduceLROnPlateau reducing learning rate to 1.5625000742147677e-05.\n",
            "157/157 [==============================] - 1s 9ms/step - loss: 0.1615 - mse: 0.1615 - val_loss: 0.2296 - val_mse: 0.2296 - lr: 6.2500e-05\n",
            "Epoch 7/30\n",
            "157/157 [==============================] - 1s 9ms/step - loss: 0.1543 - mse: 0.1543 - val_loss: 0.2209 - val_mse: 0.2209 - lr: 1.5625e-05\n",
            "Epoch 8/30\n",
            "151/157 [===========================>..] - ETA: 0s - loss: 0.1537 - mse: 0.1537\n",
            "Epoch 8: ReduceLROnPlateau reducing learning rate to 3.906250185536919e-06.\n",
            "157/157 [==============================] - 1s 9ms/step - loss: 0.1536 - mse: 0.1536 - val_loss: 0.2228 - val_mse: 0.2228 - lr: 1.5625e-05\n",
            "Epoch 9/30\n",
            "153/157 [============================>.] - ETA: 0s - loss: 0.1514 - mse: 0.1514\n",
            "Epoch 9: ReduceLROnPlateau reducing learning rate to 9.765625463842298e-07.\n",
            "157/157 [==============================] - 1s 9ms/step - loss: 0.1521 - mse: 0.1521 - val_loss: 0.2234 - val_mse: 0.2234 - lr: 3.9063e-06\n"
          ]
        }
      ],
      "source": [
        "model_stability = tf.keras.models.Sequential([\n",
        "    tf.keras.layers.Flatten(input_shape = local_representations_train[0].shape),\n",
        "    \n",
        "    tf.keras.layers.Dense(1, activation = 'linear')]\n",
        ")\n",
        "model_stability.compile(loss='mse',\n",
        "                  optimizer='adam',\n",
        "                  metrics=['mse'])\n",
        "training_callbacks = [\n",
        "    tf.keras.callbacks.ReduceLROnPlateau(patience = 1, factor = 0.25, min_lr = 1e-10, verbose = 1),\n",
        "    tf.keras.callbacks.EarlyStopping(patience = 2, restore_best_weights = True),\n",
        "]\n",
        "history_stability = model_stability.fit(local_representations_train, train_Y, \n",
        "                                validation_data=(local_representations_valid, valid_Y), \n",
        "                                batch_size=8, epochs=30,\n",
        "                                callbacks=training_callbacks)"
      ]
    },
    {
      "cell_type": "code",
      "execution_count": null,
      "metadata": {
        "colab": {
          "base_uri": "https://localhost:8080/",
          "height": 470
        },
        "id": "G8OwvEiL3LX5",
        "outputId": "8ef7d118-8fe0-484f-f0a8-01a713c16cfe"
      },
      "outputs": [
        {
          "data": {
            "text/plain": [
              "<matplotlib.legend.Legend at 0x7f963019bf40>"
            ]
          },
          "execution_count": 17,
          "metadata": {},
          "output_type": "execute_result"
        },
        {
          "data": {
            "image/png": "[encoded data removed]",
            "text/plain": [
              "<Figure size 640x480 with 1 Axes>"
            ]
          },
          "metadata": {},
          "output_type": "display_data"
        }
      ],
      "source": [
        "loss = history_stability.history['loss']\n",
        "\n",
        "plt.plot(range(len(loss)), loss, 'b', label='Training Loss')\n",
        "plt.title('Training loss')\n",
        "plt.legend()"
      ]
    },
    {
      "cell_type": "code",
      "execution_count": null,
      "metadata": {
        "colab": {
          "base_uri": "https://localhost:8080/"
        },
        "id": "hwF7G2-S5HGA",
        "outputId": "2f7e8a3e-4702-470a-ff35-8f2fa73bf1dc"
      },
      "outputs": [
        {
          "name": "stdout",
          "output_type": "stream",
          "text": [
            "32/32 [==============================] - 0s 3ms/step\n",
            "0.41706737486869766\n"
          ]
        }
      ],
      "source": [
        "predict_Y = model_stability.predict(local_representations_test)\n",
        "p, _ = spearmanr(predict_Y, test_Y)\n",
        "print(p)"
      ]
    },
    {
      "cell_type": "code",
      "execution_count": null,
      "metadata": {
        "id": "CWsYCzLDCai6"
      },
      "outputs": [],
      "source": [
        "model_stability_cnn = tf.keras.models.Sequential([\n",
        "    tf.keras.layers.Conv2D(16, (3,3), activation='relu', input_shape=(52, 1562, 1)),\n",
        "    tf.keras.layers.MaxPooling2D(2,2),\n",
        "    tf.keras.layers.Flatten(), \n",
        "    tf.keras.layers.Dense(16, activation='relu'), \n",
        "    tf.keras.layers.Dense(1, activation = 'linear')]\n",
        ")\n",
        "model_stability_cnn.compile(loss='mse',\n",
        "                  optimizer='adam',\n",
        "                  metrics=['mse'])\n",
        "training_callbacks = [\n",
        "    tf.keras.callbacks.ReduceLROnPlateau(patience = 1, factor = 0.25, min_lr = 1e-10, verbose = 1),\n",
        "    tf.keras.callbacks.EarlyStopping(patience = 2, restore_best_weights = True),\n",
        "]\n",
        "history_stability_cnn = model_stability_cnn.fit(local_representations_train, train_Y, \n",
        "                                validation_data=(local_representations_valid, valid_Y), \n",
        "                                batch_size=8, epochs=30,\n",
        "                                callbacks=training_callbacks)"
      ]
    },
    {
      "cell_type": "markdown",
      "metadata": {
        "id": "7sba6wM7AOW-"
      },
      "source": [
        "## Enhancer"
      ]
    },
    {
      "cell_type": "markdown",
      "metadata": {
        "id": "21h_1shVE81T"
      },
      "source": [
        "### Data"
      ]
    },
    {
      "cell_type": "code",
      "execution_count": null,
      "metadata": {
        "colab": {
          "base_uri": "https://localhost:8080/"
        },
        "id": "x8BoHbfskiuU",
        "outputId": "0ceccd72-f880-41eb-d1c7-82baa2b69ea2"
      },
      "outputs": [
        {
          "name": "stdout",
          "output_type": "stream",
          "text": [
            "1484\n",
            "1484\n"
          ]
        }
      ],
      "source": [
        "non_cv = pd.read_csv('bert-enhancer/data/non.cv.txt')[::2]\n",
        "non_cv.columns = ['seq']\n",
        "print((len(non_cv)))\n",
        "\n",
        "label_1 = [0 for i in range(len(non_cv))]\n",
        "non_cv['label'] = label_1\n",
        "\n",
        "enhancer_cv = pd.read_csv('bert-enhancer/data/enhancer.cv.txt')[::2]\n",
        "enhancer_cv.columns = ['seq']\n",
        "print((len(enhancer_cv)))\n",
        "\n",
        "label_1 = [1 for i in range(len(enhancer_cv))]\n",
        "enhancer_cv['label'] = label_1"
      ]
    },
    {
      "cell_type": "code",
      "execution_count": null,
      "metadata": {
        "colab": {
          "base_uri": "https://localhost:8080/",
          "height": 206
        },
        "id": "ESopLpQwmVV5",
        "outputId": "4fcb58d9-970d-4cf2-b2ba-2320e11431ef"
      },
      "outputs": [
        {
          "data": {
            "text/html": [
              "\n",
              "  <div id=\"df-f3076c01-7044-4fa7-8ae5-1133856e096a\">\n",
              "    <div class=\"colab-df-container\">\n",
              "      <div>\n",
              "<style scoped>\n",
              "    .dataframe tbody tr th:only-of-type {\n",
              "        vertical-align: middle;\n",
              "    }\n",
              "\n",
              "    .dataframe tbody tr th {\n",
              "        vertical-align: top;\n",
              "    }\n",
              "\n",
              "    .dataframe thead th {\n",
              "        text-align: right;\n",
              "    }\n",
              "</style>\n",
              "<table border=\"1\" class=\"dataframe\">\n",
              "  <thead>\n",
              "    <tr style=\"text-align: right;\">\n",
              "      <th></th>\n",
              "      <th>seq</th>\n",
              "      <th>label</th>\n",
              "    </tr>\n",
              "  </thead>\n",
              "  <tbody>\n",
              "    <tr>\n",
              "      <th>0</th>\n",
              "      <td>ATGCAAAATGGGAATGCATGAGACAGGTGGGAAAGAGAGGGAGAAA...</td>\n",
              "      <td>0</td>\n",
              "    </tr>\n",
              "    <tr>\n",
              "      <th>1</th>\n",
              "      <td>TCTGAAGGGGTTAAGTCAAAGATATATGGATTCACTAGACCTAGAG...</td>\n",
              "      <td>0</td>\n",
              "    </tr>\n",
              "    <tr>\n",
              "      <th>2</th>\n",
              "      <td>CAGGAGAATCGCTTGAGCCCGGGAGGCGGAGGTTGCAGTGAGCAGA...</td>\n",
              "      <td>0</td>\n",
              "    </tr>\n",
              "    <tr>\n",
              "      <th>3</th>\n",
              "      <td>AAGTAAAAGGATGGAAAAAGATGTATAATACAAGCATTAATCACGA...</td>\n",
              "      <td>0</td>\n",
              "    </tr>\n",
              "    <tr>\n",
              "      <th>4</th>\n",
              "      <td>AGCAAGACTAATAAAGAAAAAAAGAGAGAAGAATCAAATAGATGCA...</td>\n",
              "      <td>0</td>\n",
              "    </tr>\n",
              "  </tbody>\n",
              "</table>\n",
              "</div>\n",
              "      <button class=\"colab-df-convert\" onclick=\"convertToInteractive('df-f3076c01-7044-4fa7-8ae5-1133856e096a')\"\n",
              "              title=\"Convert this dataframe to an interactive table.\"\n",
              "              style=\"display:none;\">\n",
              "        \n",
              "  <svg xmlns=\"http://www.w3.org/2000/svg\" height=\"24px\"viewBox=\"0 0 24 24\"\n",
              "       width=\"24px\">\n",
              "    <path d=\"M0 0h24v24H0V0z\" fill=\"none\"/>\n",
              "    <path d=\"M18.56 5.44l.94 2.06.94-2.06 2.06-.94-2.06-.94-.94-2.06-.94 2.06-2.06.94zm-11 1L8.5 8.5l.94-2.06 2.06-.94-2.06-.94L8.5 2.5l-.94 2.06-2.06.94zm10 10l.94 2.06.94-2.06 2.06-.94-2.06-.94-.94-2.06-.94 2.06-2.06.94z\"/><path d=\"M17.41 7.96l-1.37-1.37c-.4-.4-.92-.59-1.43-.59-.52 0-1.04.2-1.43.59L10.3 9.45l-7.72 7.72c-.78.78-.78 2.05 0 2.83L4 21.41c.39.39.9.59 1.41.59.51 0 1.02-.2 1.41-.59l7.78-7.78 2.81-2.81c.8-.78.8-2.07 0-2.86zM5.41 20L4 18.59l7.72-7.72 1.47 1.35L5.41 20z\"/>\n",
              "  </svg>\n",
              "      </button>\n",
              "      \n",
              "  <style>\n",
              "    .colab-df-container {\n",
              "      display:flex;\n",
              "      flex-wrap:wrap;\n",
              "      gap: 12px;\n",
              "    }\n",
              "\n",
              "    .colab-df-convert {\n",
              "      background-color: #E8F0FE;\n",
              "      border: none;\n",
              "      border-radius: 50%;\n",
              "      cursor: pointer;\n",
              "      display: none;\n",
              "      fill: #1967D2;\n",
              "      height: 32px;\n",
              "      padding: 0 0 0 0;\n",
              "      width: 32px;\n",
              "    }\n",
              "\n",
              "    .colab-df-convert:hover {\n",
              "      background-color: #E2EBFA;\n",
              "      box-shadow: 0px 1px 2px rgba(60, 64, 67, 0.3), 0px 1px 3px 1px rgba(60, 64, 67, 0.15);\n",
              "      fill: #174EA6;\n",
              "    }\n",
              "\n",
              "    [theme=dark] .colab-df-convert {\n",
              "      background-color: #3B4455;\n",
              "      fill: #D2E3FC;\n",
              "    }\n",
              "\n",
              "    [theme=dark] .colab-df-convert:hover {\n",
              "      background-color: #434B5C;\n",
              "      box-shadow: 0px 1px 3px 1px rgba(0, 0, 0, 0.15);\n",
              "      filter: drop-shadow(0px 1px 2px rgba(0, 0, 0, 0.3));\n",
              "      fill: #FFFFFF;\n",
              "    }\n",
              "  </style>\n",
              "\n",
              "      <script>\n",
              "        const buttonEl =\n",
              "          document.querySelector('#df-f3076c01-7044-4fa7-8ae5-1133856e096a button.colab-df-convert');\n",
              "        buttonEl.style.display =\n",
              "          google.colab.kernel.accessAllowed ? 'block' : 'none';\n",
              "\n",
              "        async function convertToInteractive(key) {\n",
              "          const element = document.querySelector('#df-f3076c01-7044-4fa7-8ae5-1133856e096a');\n",
              "          const dataTable =\n",
              "            await google.colab.kernel.invokeFunction('convertToInteractive',\n",
              "                                                     [key], {});\n",
              "          if (!dataTable) return;\n",
              "\n",
              "          const docLinkHtml = 'Like what you see? Visit the ' +\n",
              "            '<a target=\"_blank\" href=https://colab.research.google.com/notebooks/data_table.ipynb>data table notebook</a>'\n",
              "            + ' to learn more about interactive tables.';\n",
              "          element.innerHTML = '';\n",
              "          dataTable['output_type'] = 'display_data';\n",
              "          await google.colab.output.renderOutput(dataTable, element);\n",
              "          const docLink = document.createElement('div');\n",
              "          docLink.innerHTML = docLinkHtml;\n",
              "          element.appendChild(docLink);\n",
              "        }\n",
              "      </script>\n",
              "    </div>\n",
              "  </div>\n",
              "  "
            ],
            "text/plain": [
              "                                                 seq  label\n",
              "0  ATGCAAAATGGGAATGCATGAGACAGGTGGGAAAGAGAGGGAGAAA...      0\n",
              "1  TCTGAAGGGGTTAAGTCAAAGATATATGGATTCACTAGACCTAGAG...      0\n",
              "2  CAGGAGAATCGCTTGAGCCCGGGAGGCGGAGGTTGCAGTGAGCAGA...      0\n",
              "3  AAGTAAAAGGATGGAAAAAGATGTATAATACAAGCATTAATCACGA...      0\n",
              "4  AGCAAGACTAATAAAGAAAAAAAGAGAGAAGAATCAAATAGATGCA...      0"
            ]
          },
          "execution_count": 6,
          "metadata": {},
          "output_type": "execute_result"
        }
      ],
      "source": [
        "enhancer_train = pd.concat([non_cv, enhancer_cv],axis=0)\n",
        "enhancer_train.index = range(len(enhancer_train))\n",
        "enhancer_train.head()"
      ]
    },
    {
      "cell_type": "code",
      "execution_count": null,
      "metadata": {
        "colab": {
          "base_uri": "https://localhost:8080/"
        },
        "id": "IcRolbTkqtT_",
        "outputId": "174b0f40-b1e0-4cc6-cf8b-8f97ab14e52a"
      },
      "outputs": [
        {
          "name": "stdout",
          "output_type": "stream",
          "text": [
            "200\n",
            "200\n"
          ]
        }
      ],
      "source": [
        "non_ind = pd.read_csv('bert-enhancer/data/non.ind.txt')[::2]\n",
        "non_ind.columns = ['seq']\n",
        "print((len(non_ind)))\n",
        "\n",
        "label_1 = [0 for i in range(len(non_ind))]\n",
        "non_ind['label'] = label_1\n",
        "\n",
        "enhancer_ind = pd.read_csv('bert-enhancer/data/enhancer.ind.txt')[::2]\n",
        "enhancer_ind.columns = ['seq']\n",
        "print((len(enhancer_ind)))\n",
        "\n",
        "label_1 = [1 for i in range(len(enhancer_ind))]\n",
        "enhancer_ind['label'] = label_1"
      ]
    },
    {
      "cell_type": "code",
      "execution_count": null,
      "metadata": {
        "colab": {
          "base_uri": "https://localhost:8080/",
          "height": 206
        },
        "id": "ozJ9uL3NrHtS",
        "outputId": "407c5055-dde7-41be-ca46-8cd84de40697"
      },
      "outputs": [
        {
          "data": {
            "text/html": [
              "\n",
              "  <div id=\"df-9ad99e7a-5718-46c2-bffe-6cb4a26e0a41\">\n",
              "    <div class=\"colab-df-container\">\n",
              "      <div>\n",
              "<style scoped>\n",
              "    .dataframe tbody tr th:only-of-type {\n",
              "        vertical-align: middle;\n",
              "    }\n",
              "\n",
              "    .dataframe tbody tr th {\n",
              "        vertical-align: top;\n",
              "    }\n",
              "\n",
              "    .dataframe thead th {\n",
              "        text-align: right;\n",
              "    }\n",
              "</style>\n",
              "<table border=\"1\" class=\"dataframe\">\n",
              "  <thead>\n",
              "    <tr style=\"text-align: right;\">\n",
              "      <th></th>\n",
              "      <th>seq</th>\n",
              "      <th>label</th>\n",
              "    </tr>\n",
              "  </thead>\n",
              "  <tbody>\n",
              "    <tr>\n",
              "      <th>0</th>\n",
              "      <td>AATTTTCTCATTTTCTCATAAAGTTTAACAGTTGTTTATTTGAGTC...</td>\n",
              "      <td>0</td>\n",
              "    </tr>\n",
              "    <tr>\n",
              "      <th>1</th>\n",
              "      <td>ACTGGTTATCTTTTAGGACTAGTTAATATAACCCATTCTCTAACCA...</td>\n",
              "      <td>0</td>\n",
              "    </tr>\n",
              "    <tr>\n",
              "      <th>2</th>\n",
              "      <td>ATGCATATGTTCTTCAGTAAACAGAGCAGCCACTGGTACCACAGGA...</td>\n",
              "      <td>0</td>\n",
              "    </tr>\n",
              "    <tr>\n",
              "      <th>3</th>\n",
              "      <td>CTGCTCTCCTCGCTCTATAAAAGTCAGAGTGCCTAAGCTGTTAATT...</td>\n",
              "      <td>0</td>\n",
              "    </tr>\n",
              "    <tr>\n",
              "      <th>4</th>\n",
              "      <td>GCTTGGGTATATATTGTCCAATATAGCAGGCCTCATGTGCTCCTTA...</td>\n",
              "      <td>0</td>\n",
              "    </tr>\n",
              "  </tbody>\n",
              "</table>\n",
              "</div>\n",
              "      <button class=\"colab-df-convert\" onclick=\"convertToInteractive('df-9ad99e7a-5718-46c2-bffe-6cb4a26e0a41')\"\n",
              "              title=\"Convert this dataframe to an interactive table.\"\n",
              "              style=\"display:none;\">\n",
              "        \n",
              "  <svg xmlns=\"http://www.w3.org/2000/svg\" height=\"24px\"viewBox=\"0 0 24 24\"\n",
              "       width=\"24px\">\n",
              "    <path d=\"M0 0h24v24H0V0z\" fill=\"none\"/>\n",
              "    <path d=\"M18.56 5.44l.94 2.06.94-2.06 2.06-.94-2.06-.94-.94-2.06-.94 2.06-2.06.94zm-11 1L8.5 8.5l.94-2.06 2.06-.94-2.06-.94L8.5 2.5l-.94 2.06-2.06.94zm10 10l.94 2.06.94-2.06 2.06-.94-2.06-.94-.94-2.06-.94 2.06-2.06.94z\"/><path d=\"M17.41 7.96l-1.37-1.37c-.4-.4-.92-.59-1.43-.59-.52 0-1.04.2-1.43.59L10.3 9.45l-7.72 7.72c-.78.78-.78 2.05 0 2.83L4 21.41c.39.39.9.59 1.41.59.51 0 1.02-.2 1.41-.59l7.78-7.78 2.81-2.81c.8-.78.8-2.07 0-2.86zM5.41 20L4 18.59l7.72-7.72 1.47 1.35L5.41 20z\"/>\n",
              "  </svg>\n",
              "      </button>\n",
              "      \n",
              "  <style>\n",
              "    .colab-df-container {\n",
              "      display:flex;\n",
              "      flex-wrap:wrap;\n",
              "      gap: 12px;\n",
              "    }\n",
              "\n",
              "    .colab-df-convert {\n",
              "      background-color: #E8F0FE;\n",
              "      border: none;\n",
              "      border-radius: 50%;\n",
              "      cursor: pointer;\n",
              "      display: none;\n",
              "      fill: #1967D2;\n",
              "      height: 32px;\n",
              "      padding: 0 0 0 0;\n",
              "      width: 32px;\n",
              "    }\n",
              "\n",
              "    .colab-df-convert:hover {\n",
              "      background-color: #E2EBFA;\n",
              "      box-shadow: 0px 1px 2px rgba(60, 64, 67, 0.3), 0px 1px 3px 1px rgba(60, 64, 67, 0.15);\n",
              "      fill: #174EA6;\n",
              "    }\n",
              "\n",
              "    [theme=dark] .colab-df-convert {\n",
              "      background-color: #3B4455;\n",
              "      fill: #D2E3FC;\n",
              "    }\n",
              "\n",
              "    [theme=dark] .colab-df-convert:hover {\n",
              "      background-color: #434B5C;\n",
              "      box-shadow: 0px 1px 3px 1px rgba(0, 0, 0, 0.15);\n",
              "      filter: drop-shadow(0px 1px 2px rgba(0, 0, 0, 0.3));\n",
              "      fill: #FFFFFF;\n",
              "    }\n",
              "  </style>\n",
              "\n",
              "      <script>\n",
              "        const buttonEl =\n",
              "          document.querySelector('#df-9ad99e7a-5718-46c2-bffe-6cb4a26e0a41 button.colab-df-convert');\n",
              "        buttonEl.style.display =\n",
              "          google.colab.kernel.accessAllowed ? 'block' : 'none';\n",
              "\n",
              "        async function convertToInteractive(key) {\n",
              "          const element = document.querySelector('#df-9ad99e7a-5718-46c2-bffe-6cb4a26e0a41');\n",
              "          const dataTable =\n",
              "            await google.colab.kernel.invokeFunction('convertToInteractive',\n",
              "                                                     [key], {});\n",
              "          if (!dataTable) return;\n",
              "\n",
              "          const docLinkHtml = 'Like what you see? Visit the ' +\n",
              "            '<a target=\"_blank\" href=https://colab.research.google.com/notebooks/data_table.ipynb>data table notebook</a>'\n",
              "            + ' to learn more about interactive tables.';\n",
              "          element.innerHTML = '';\n",
              "          dataTable['output_type'] = 'display_data';\n",
              "          await google.colab.output.renderOutput(dataTable, element);\n",
              "          const docLink = document.createElement('div');\n",
              "          docLink.innerHTML = docLinkHtml;\n",
              "          element.appendChild(docLink);\n",
              "        }\n",
              "      </script>\n",
              "    </div>\n",
              "  </div>\n",
              "  "
            ],
            "text/plain": [
              "                                                 seq  label\n",
              "0  AATTTTCTCATTTTCTCATAAAGTTTAACAGTTGTTTATTTGAGTC...      0\n",
              "1  ACTGGTTATCTTTTAGGACTAGTTAATATAACCCATTCTCTAACCA...      0\n",
              "2  ATGCATATGTTCTTCAGTAAACAGAGCAGCCACTGGTACCACAGGA...      0\n",
              "3  CTGCTCTCCTCGCTCTATAAAAGTCAGAGTGCCTAAGCTGTTAATT...      0\n",
              "4  GCTTGGGTATATATTGTCCAATATAGCAGGCCTCATGTGCTCCTTA...      0"
            ]
          },
          "execution_count": 8,
          "metadata": {},
          "output_type": "execute_result"
        }
      ],
      "source": [
        "enhancer_test = pd.concat([non_ind, enhancer_ind],axis=0)\n",
        "enhancer_test.index = range(len(enhancer_test))\n",
        "enhancer_test.head()"
      ]
    },
    {
      "cell_type": "code",
      "execution_count": null,
      "metadata": {
        "colab": {
          "base_uri": "https://localhost:8080/"
        },
        "id": "JDeJgxxlmqbw",
        "outputId": "e2e3a968-3955-4d96-e2e9-bcd832c15a6a"
      },
      "outputs": [
        {
          "name": "stdout",
          "output_type": "stream",
          "text": [
            "sequence_length 202\n"
          ]
        }
      ],
      "source": [
        "enhancer_sequence_length = enhancer_train['seq'].map(lambda x: len(x)).max() + 2\n",
        "print('sequence_length', enhancer_sequence_length)"
      ]
    },
    {
      "cell_type": "code",
      "execution_count": null,
      "metadata": {
        "id": "Mru3rv0ZocRt"
      },
      "outputs": [],
      "source": [
        "enhancer_train_X = input_encoder.encode_X(enhancer_train['seq'], enhancer_sequence_length)\n",
        "enhancer_test_X = input_encoder.encode_X(enhancer_test['seq'], enhancer_sequence_length)"
      ]
    },
    {
      "cell_type": "code",
      "execution_count": null,
      "metadata": {
        "colab": {
          "base_uri": "https://localhost:8080/"
        },
        "id": "lsPGMfP2o0Uw",
        "outputId": "c5e7aacf-4708-4018-f2ef-73f50652e69b"
      },
      "outputs": [
        {
          "name": "stderr",
          "output_type": "stream",
          "text": [
            "WARNING:absl:`lr` is deprecated in Keras optimizer, please use `learning_rate` or use the legacy optimizer, e.g.,tf.keras.optimizers.legacy.Adam.\n"
          ]
        }
      ],
      "source": [
        "enhancer_model_generator = get_model_with_hidden_layers_as_outputs(pretrained_model_generator.create_model(enhancer_sequence_length))"
      ]
    },
    {
      "cell_type": "code",
      "execution_count": null,
      "metadata": {
        "colab": {
          "base_uri": "https://localhost:8080/"
        },
        "id": "N40V3x8Po43s",
        "outputId": "434684f4-01ad-44e5-f4bd-e92401447093"
      },
      "outputs": [
        {
          "name": "stdout",
          "output_type": "stream",
          "text": [
            "371/371 [==============================] - 21s 51ms/step\n",
            "50/50 [==============================] - 2s 47ms/step\n"
          ]
        }
      ],
      "source": [
        "enhancer_local_representations_train, global_representations_train=enhancer_model_generator.predict(enhancer_train_X, batch_size = 8)\n",
        "enhancer_local_representations_test, global_representations_test=enhancer_model_generator.predict(enhancer_test_X, batch_size = 8)"
      ]
    },
    {
      "cell_type": "code",
      "execution_count": null,
      "metadata": {
        "colab": {
          "base_uri": "https://localhost:8080/"
        },
        "id": "aryLZJuR_nif",
        "outputId": "0a0b651c-3808-4685-d38a-619e0ace611f"
      },
      "outputs": [
        {
          "name": "stdout",
          "output_type": "stream",
          "text": [
            "(2968, 202, 1562)\n"
          ]
        }
      ],
      "source": [
        "print(enhancer_local_representations_train.shape)"
      ]
    },
    {
      "cell_type": "markdown",
      "metadata": {
        "id": "ftjcgh-3EcD0"
      },
      "source": [
        "### 1 Dense unit without CallBack"
      ]
    },
    {
      "cell_type": "code",
      "execution_count": null,
      "metadata": {
        "colab": {
          "base_uri": "https://localhost:8080/"
        },
        "id": "SXyzQkS9pD5I",
        "outputId": "0ce0e206-cfcd-417a-f239-4ad486efca42"
      },
      "outputs": [
        {
          "name": "stdout",
          "output_type": "stream",
          "text": [
            "Epoch 1/40\n",
            "47/47 [==============================] - 2s 18ms/step - loss: 4.8379 - accuracy: 0.6806\n",
            "Epoch 2/40\n",
            "47/47 [==============================] - 1s 15ms/step - loss: 1.2439 - accuracy: 0.7207\n",
            "Epoch 3/40\n",
            "47/47 [==============================] - 1s 16ms/step - loss: 1.3575 - accuracy: 0.7284\n",
            "Epoch 4/40\n",
            "47/47 [==============================] - 1s 16ms/step - loss: 0.7567 - accuracy: 0.7834\n",
            "Epoch 5/40\n",
            "47/47 [==============================] - 1s 16ms/step - loss: 0.8425 - accuracy: 0.7820\n",
            "Epoch 6/40\n",
            "47/47 [==============================] - 1s 16ms/step - loss: 0.8117 - accuracy: 0.7800\n",
            "Epoch 7/40\n",
            "47/47 [==============================] - 1s 17ms/step - loss: 0.6244 - accuracy: 0.8113\n",
            "Epoch 8/40\n",
            "47/47 [==============================] - 1s 17ms/step - loss: 0.9381 - accuracy: 0.7759\n",
            "Epoch 9/40\n",
            "47/47 [==============================] - 1s 18ms/step - loss: 1.5039 - accuracy: 0.7429\n",
            "Epoch 10/40\n",
            "47/47 [==============================] - 1s 17ms/step - loss: 0.6569 - accuracy: 0.8177\n",
            "Epoch 11/40\n",
            "47/47 [==============================] - 1s 17ms/step - loss: 0.7292 - accuracy: 0.8063\n",
            "Epoch 12/40\n",
            "47/47 [==============================] - 1s 17ms/step - loss: 0.4223 - accuracy: 0.8555\n",
            "Epoch 13/40\n",
            "47/47 [==============================] - 1s 18ms/step - loss: 0.4540 - accuracy: 0.8447\n",
            "Epoch 14/40\n",
            "47/47 [==============================] - 1s 18ms/step - loss: 0.5071 - accuracy: 0.8379\n",
            "Epoch 15/40\n",
            "47/47 [==============================] - 1s 18ms/step - loss: 0.4156 - accuracy: 0.8558\n",
            "Epoch 16/40\n",
            "47/47 [==============================] - 1s 18ms/step - loss: 0.3120 - accuracy: 0.8817\n",
            "Epoch 17/40\n",
            "47/47 [==============================] - 1s 17ms/step - loss: 0.1923 - accuracy: 0.9242\n",
            "Epoch 18/40\n",
            "47/47 [==============================] - 1s 17ms/step - loss: 0.3085 - accuracy: 0.8720\n",
            "Epoch 19/40\n",
            "47/47 [==============================] - 1s 18ms/step - loss: 0.4068 - accuracy: 0.8625\n",
            "Epoch 20/40\n",
            "47/47 [==============================] - 1s 17ms/step - loss: 0.2743 - accuracy: 0.8918\n",
            "Epoch 21/40\n",
            "47/47 [==============================] - 1s 17ms/step - loss: 0.2768 - accuracy: 0.8898\n",
            "Epoch 22/40\n",
            "47/47 [==============================] - 1s 17ms/step - loss: 0.4590 - accuracy: 0.8423\n",
            "Epoch 23/40\n",
            "47/47 [==============================] - 1s 17ms/step - loss: 0.1889 - accuracy: 0.9262\n",
            "Epoch 24/40\n",
            "47/47 [==============================] - 1s 18ms/step - loss: 0.1186 - accuracy: 0.9575\n",
            "Epoch 25/40\n",
            "47/47 [==============================] - 1s 18ms/step - loss: 0.1951 - accuracy: 0.9161\n",
            "Epoch 26/40\n",
            "47/47 [==============================] - 1s 19ms/step - loss: 0.2050 - accuracy: 0.9191\n",
            "Epoch 27/40\n",
            "47/47 [==============================] - 1s 18ms/step - loss: 0.1767 - accuracy: 0.9282\n",
            "Epoch 28/40\n",
            "47/47 [==============================] - 1s 18ms/step - loss: 0.2215 - accuracy: 0.9137\n",
            "Epoch 29/40\n",
            "47/47 [==============================] - 1s 18ms/step - loss: 0.1855 - accuracy: 0.9249\n",
            "Epoch 30/40\n",
            "47/47 [==============================] - 1s 19ms/step - loss: 0.0757 - accuracy: 0.9757\n",
            "Epoch 31/40\n",
            "47/47 [==============================] - 1s 18ms/step - loss: 0.0539 - accuracy: 0.9892\n",
            "Epoch 32/40\n",
            "47/47 [==============================] - 1s 18ms/step - loss: 0.1506 - accuracy: 0.9383\n",
            "Epoch 33/40\n",
            "47/47 [==============================] - 1s 18ms/step - loss: 0.3414 - accuracy: 0.8774\n",
            "Epoch 34/40\n",
            "47/47 [==============================] - 1s 19ms/step - loss: 0.1435 - accuracy: 0.9387\n",
            "Epoch 35/40\n",
            "47/47 [==============================] - 1s 18ms/step - loss: 0.0656 - accuracy: 0.9818\n",
            "Epoch 36/40\n",
            "47/47 [==============================] - 1s 18ms/step - loss: 0.0406 - accuracy: 0.9923\n",
            "Epoch 37/40\n",
            "47/47 [==============================] - 1s 18ms/step - loss: 0.0265 - accuracy: 0.9987\n",
            "Epoch 38/40\n",
            "47/47 [==============================] - 1s 18ms/step - loss: 0.0274 - accuracy: 0.9997\n",
            "Epoch 39/40\n",
            "47/47 [==============================] - 1s 18ms/step - loss: 0.0249 - accuracy: 0.9997\n",
            "Epoch 40/40\n",
            "47/47 [==============================] - 1s 18ms/step - loss: 0.0234 - accuracy: 0.9997\n"
          ]
        }
      ],
      "source": [
        "model_enhancer = tf.keras.models.Sequential([\n",
        "    tf.keras.layers.Flatten(input_shape = enhancer_local_representations_train[0].shape),\n",
        "    tf.keras.layers.Dense(3, activation = 'linear'),\n",
        "    tf.keras.layers.Dense(1, activation = 'sigmoid')]\n",
        ")\n",
        "model_enhancer.compile(loss=tf.keras.losses.binary_crossentropy,\n",
        "                  optimizer='adam',\n",
        "                  metrics=['accuracy'])\n",
        "\n",
        "history_stability = model_enhancer.fit(enhancer_local_representations_train, enhancer_train['label'], \n",
        "                                batch_size=8, epochs=40)"
      ]
    },
    {
      "cell_type": "code",
      "execution_count": null,
      "metadata": {
        "colab": {
          "base_uri": "https://localhost:8080/"
        },
        "id": "1A47csT9FMQ8",
        "outputId": "9b4af586-ad48-4515-b124-2a700fb0e8cf"
      },
      "outputs": [
        {
          "name": "stdout",
          "output_type": "stream",
          "text": [
            "13/13 [==============================] - 0s 6ms/step\n"
          ]
        },
        {
          "data": {
            "text/plain": [
              "0.7225"
            ]
          },
          "execution_count": 19,
          "metadata": {},
          "output_type": "execute_result"
        }
      ],
      "source": [
        "enhancer_predict_Y = model_enhancer.predict(enhancer_local_representations_test)\n",
        "label = []\n",
        "for i in enhancer_predict_Y:\n",
        "  if i[0] <= 0.5:\n",
        "    label.append(0)\n",
        "  else:\n",
        "    label.append(1)\n",
        "correct = 0\n",
        "for i in range(len(label)):\n",
        "  if label[i] == enhancer_test['label'][i]:\n",
        "    correct += 1\n",
        "correct / len(label)"
      ]
    },
    {
      "cell_type": "markdown",
      "metadata": {
        "id": "k06sh6w9FF7Z"
      },
      "source": [
        "### 1 Dense unit with CallBack"
      ]
    },
    {
      "cell_type": "code",
      "execution_count": null,
      "metadata": {
        "colab": {
          "base_uri": "https://localhost:8080/"
        },
        "id": "MMVCbFTKXOJN",
        "outputId": "1ef1a089-40b3-400f-b9e8-27a2958b01b8"
      },
      "outputs": [
        {
          "name": "stdout",
          "output_type": "stream",
          "text": [
            "Epoch 1/40\n",
            "47/47 [==============================] - 2s 35ms/step - loss: 4.3954 - accuracy: 0.6493 - val_loss: 1.5257 - val_accuracy: 0.7375 - lr: 0.0010\n",
            "Epoch 2/40\n",
            "44/47 [===========================>..] - ETA: 0s - loss: 0.9815 - accuracy: 0.7418\n",
            "Epoch 2: ReduceLROnPlateau reducing learning rate to 0.0002500000118743628.\n",
            "47/47 [==============================] - 1s 20ms/step - loss: 0.9880 - accuracy: 0.7412 - val_loss: 2.7716 - val_accuracy: 0.5625 - lr: 0.0010\n",
            "Epoch 3/40\n",
            "47/47 [==============================] - 1s 20ms/step - loss: 0.8209 - accuracy: 0.7749 - val_loss: 0.9384 - val_accuracy: 0.7125 - lr: 2.5000e-04\n",
            "Epoch 4/40\n",
            "45/47 [===========================>..] - ETA: 0s - loss: 0.4489 - accuracy: 0.8222\n",
            "Epoch 4: ReduceLROnPlateau reducing learning rate to 6.25000029685907e-05.\n",
            "47/47 [==============================] - 1s 20ms/step - loss: 0.4438 - accuracy: 0.8245 - val_loss: 0.9393 - val_accuracy: 0.7125 - lr: 2.5000e-04\n",
            "Epoch 5/40\n",
            "47/47 [==============================] - 1s 21ms/step - loss: 0.3318 - accuracy: 0.8679 - val_loss: 0.8765 - val_accuracy: 0.7100 - lr: 6.2500e-05\n",
            "Epoch 6/40\n",
            "47/47 [==============================] - 1s 21ms/step - loss: 0.3367 - accuracy: 0.8619 - val_loss: 0.8491 - val_accuracy: 0.7400 - lr: 6.2500e-05\n",
            "Epoch 7/40\n",
            "47/47 [==============================] - 1s 22ms/step - loss: 0.3046 - accuracy: 0.8774 - val_loss: 0.8469 - val_accuracy: 0.7325 - lr: 6.2500e-05\n",
            "Epoch 8/40\n",
            "47/47 [==============================] - 1s 20ms/step - loss: 0.3036 - accuracy: 0.8780 - val_loss: 0.8459 - val_accuracy: 0.7375 - lr: 6.2500e-05\n",
            "Epoch 9/40\n",
            "47/47 [==============================] - 1s 21ms/step - loss: 0.3033 - accuracy: 0.8723 - val_loss: 0.8188 - val_accuracy: 0.7125 - lr: 6.2500e-05\n",
            "Epoch 10/40\n",
            "47/47 [==============================] - 1s 21ms/step - loss: 0.2839 - accuracy: 0.8861 - val_loss: 0.7952 - val_accuracy: 0.7275 - lr: 6.2500e-05\n",
            "Epoch 11/40\n",
            "47/47 [==============================] - 1s 21ms/step - loss: 0.2774 - accuracy: 0.8895 - val_loss: 0.7798 - val_accuracy: 0.7375 - lr: 6.2500e-05\n",
            "Epoch 12/40\n",
            "44/47 [===========================>..] - ETA: 0s - loss: 0.2791 - accuracy: 0.8849\n",
            "Epoch 12: ReduceLROnPlateau reducing learning rate to 1.5625000742147677e-05.\n",
            "47/47 [==============================] - 1s 21ms/step - loss: 0.2821 - accuracy: 0.8824 - val_loss: 0.7853 - val_accuracy: 0.7475 - lr: 6.2500e-05\n",
            "Epoch 13/40\n",
            "47/47 [==============================] - 1s 21ms/step - loss: 0.2491 - accuracy: 0.9070 - val_loss: 0.7727 - val_accuracy: 0.7300 - lr: 1.5625e-05\n",
            "Epoch 14/40\n",
            "47/47 [==============================] - 1s 21ms/step - loss: 0.2469 - accuracy: 0.9087 - val_loss: 0.7693 - val_accuracy: 0.7300 - lr: 1.5625e-05\n",
            "Epoch 15/40\n",
            "47/47 [==============================] - 1s 22ms/step - loss: 0.2464 - accuracy: 0.9117 - val_loss: 0.7680 - val_accuracy: 0.7250 - lr: 1.5625e-05\n",
            "Epoch 16/40\n",
            "47/47 [==============================] - 1s 22ms/step - loss: 0.2455 - accuracy: 0.9111 - val_loss: 0.7637 - val_accuracy: 0.7350 - lr: 1.5625e-05\n",
            "Epoch 17/40\n",
            "47/47 [==============================] - 1s 22ms/step - loss: 0.2415 - accuracy: 0.9117 - val_loss: 0.7624 - val_accuracy: 0.7350 - lr: 1.5625e-05\n",
            "Epoch 18/40\n",
            "47/47 [==============================] - 1s 21ms/step - loss: 0.2419 - accuracy: 0.9161 - val_loss: 0.7599 - val_accuracy: 0.7350 - lr: 1.5625e-05\n",
            "Epoch 19/40\n",
            "47/47 [==============================] - 1s 22ms/step - loss: 0.2398 - accuracy: 0.9161 - val_loss: 0.7594 - val_accuracy: 0.7300 - lr: 1.5625e-05\n",
            "Epoch 20/40\n",
            "47/47 [==============================] - 1s 22ms/step - loss: 0.2394 - accuracy: 0.9124 - val_loss: 0.7554 - val_accuracy: 0.7350 - lr: 1.5625e-05\n",
            "Epoch 21/40\n",
            "46/47 [============================>.] - ETA: 0s - loss: 0.2370 - accuracy: 0.9171\n",
            "Epoch 21: ReduceLROnPlateau reducing learning rate to 3.906250185536919e-06.\n",
            "47/47 [==============================] - 1s 22ms/step - loss: 0.2358 - accuracy: 0.9175 - val_loss: 0.7566 - val_accuracy: 0.7275 - lr: 1.5625e-05\n",
            "Epoch 22/40\n",
            "47/47 [==============================] - 1s 22ms/step - loss: 0.2317 - accuracy: 0.9201 - val_loss: 0.7522 - val_accuracy: 0.7400 - lr: 3.9063e-06\n",
            "Epoch 23/40\n",
            "47/47 [==============================] - 1s 22ms/step - loss: 0.2308 - accuracy: 0.9242 - val_loss: 0.7512 - val_accuracy: 0.7375 - lr: 3.9063e-06\n",
            "Epoch 24/40\n",
            "46/47 [============================>.] - ETA: 0s - loss: 0.2306 - accuracy: 0.9209\n",
            "Epoch 24: ReduceLROnPlateau reducing learning rate to 9.765625463842298e-07.\n",
            "47/47 [==============================] - 1s 21ms/step - loss: 0.2311 - accuracy: 0.9208 - val_loss: 0.7517 - val_accuracy: 0.7400 - lr: 3.9063e-06\n",
            "Epoch 25/40\n",
            "47/47 [==============================] - 1s 21ms/step - loss: 0.2292 - accuracy: 0.9215 - val_loss: 0.7503 - val_accuracy: 0.7400 - lr: 9.7656e-07\n",
            "Epoch 26/40\n",
            "47/47 [==============================] - 1s 21ms/step - loss: 0.2290 - accuracy: 0.9222 - val_loss: 0.7500 - val_accuracy: 0.7400 - lr: 9.7656e-07\n",
            "Epoch 27/40\n",
            "47/47 [==============================] - 1s 22ms/step - loss: 0.2289 - accuracy: 0.9218 - val_loss: 0.7498 - val_accuracy: 0.7400 - lr: 9.7656e-07\n",
            "Epoch 28/40\n",
            "46/47 [============================>.] - ETA: 0s - loss: 0.2286 - accuracy: 0.9232\n",
            "Epoch 28: ReduceLROnPlateau reducing learning rate to 2.4414063659605745e-07.\n",
            "47/47 [==============================] - 1s 22ms/step - loss: 0.2286 - accuracy: 0.9232 - val_loss: 0.7500 - val_accuracy: 0.7400 - lr: 9.7656e-07\n",
            "Epoch 29/40\n",
            "46/47 [============================>.] - ETA: 0s - loss: 0.2281 - accuracy: 0.9236\n",
            "Epoch 29: ReduceLROnPlateau reducing learning rate to 6.103515914901436e-08.\n",
            "47/47 [==============================] - 1s 22ms/step - loss: 0.2284 - accuracy: 0.9228 - val_loss: 0.7498 - val_accuracy: 0.7400 - lr: 2.4414e-07\n"
          ]
        }
      ],
      "source": [
        "model_enhancer = tf.keras.models.Sequential([\n",
        "    tf.keras.layers.Flatten(input_shape = enhancer_local_representations_train[0].shape),\n",
        "    tf.keras.layers.Dense(3, activation = 'linear'),\n",
        "    tf.keras.layers.Dense(1, activation = 'sigmoid')]\n",
        ")\n",
        "model_enhancer.compile(loss=tf.keras.losses.binary_crossentropy,\n",
        "                  optimizer='adam',\n",
        "                  metrics=['accuracy'])\n",
        "\n",
        "training_callbacks = [\n",
        "    tf.keras.callbacks.ReduceLROnPlateau(patience = 1, factor = 0.25, min_lr = 1e-10, verbose = 1),\n",
        "    tf.keras.callbacks.EarlyStopping(patience = 2, restore_best_weights = True),\n",
        "]\n",
        "\n",
        "history_stability = model_enhancer.fit(enhancer_local_representations_train, enhancer_train['label'], \n",
        "                                               validation_data=(enhancer_local_representations_test, enhancer_test['label']), \n",
        "                                               batch_size=8, epochs=40,\n",
        "                                               callbacks=training_callbacks)"
      ]
    },
    {
      "cell_type": "code",
      "execution_count": null,
      "metadata": {
        "colab": {
          "base_uri": "https://localhost:8080/"
        },
        "id": "rW5X44m-BcKh",
        "outputId": "4ead7a19-e40b-435d-bb53-eb9afcf530d7"
      },
      "outputs": [
        {
          "name": "stdout",
          "output_type": "stream",
          "text": [
            "dict_keys(['loss', 'accuracy', 'val_loss', 'val_accuracy', 'lr'])\n"
          ]
        }
      ],
      "source": [
        "print(history_stability.history.keys())"
      ]
    },
    {
      "cell_type": "code",
      "execution_count": null,
      "metadata": {
        "colab": {
          "base_uri": "https://localhost:8080/",
          "height": 470
        },
        "id": "bkzTPtH20kOT",
        "outputId": "f120cd3e-e0af-4214-fbdc-30edf48121c9"
      },
      "outputs": [
        {
          "data": {
            "text/plain": [
              "<matplotlib.legend.Legend at 0x7f619c6e3070>"
            ]
          },
          "execution_count": 25,
          "metadata": {},
          "output_type": "execute_result"
        },
        {
          "data": {
            "image/png": "[encoded data removed]",
            "text/plain": [
              "<Figure size 640x480 with 2 Axes>"
            ]
          },
          "metadata": {},
          "output_type": "display_data"
        }
      ],
      "source": [
        "accuracy = history_stability.history['accuracy']\n",
        "val_accuracy = history_stability.history['val_accuracy']\n",
        "loss = history_stability.history['loss']\n",
        "val_loss = history_stability.history['val_loss']\n",
        "\n",
        "epoch = range(len(accuracy))\n",
        "\n",
        "plt.figure(figsize=(12,6))\n",
        "\n",
        "plt.subplot(2,2,1)\n",
        "plt.plot(epoch, accuracy, 'b', label='Train Accuracy')\n",
        "plt.plot(epoch, val_accuracy, 'r', label='Test Accuracy')\n",
        "plt.title('Accuracy')\n",
        "plt.legend()\n",
        "\n",
        "\n",
        "plt.subplot(2,2,2)\n",
        "plt.plot(epoch, loss, 'b', label='Train Loss')\n",
        "plt.plot(epoch, val_loss, 'r', label='Test Loss')\n",
        "plt.title('Loss')\n",
        "plt.legend()"
      ]
    },
    {
      "cell_type": "code",
      "execution_count": null,
      "metadata": {
        "colab": {
          "base_uri": "https://localhost:8080/"
        },
        "id": "7AFqHdE2rT4n",
        "outputId": "46e9267c-a9b2-4cc1-e15c-8f26198953db"
      },
      "outputs": [
        {
          "name": "stdout",
          "output_type": "stream",
          "text": [
            "13/13 [==============================] - 0s 7ms/step\n"
          ]
        },
        {
          "data": {
            "text/plain": [
              "0.74"
            ]
          },
          "execution_count": 26,
          "metadata": {},
          "output_type": "execute_result"
        }
      ],
      "source": [
        "enhancer_predict_Y = model_enhancer.predict(enhancer_local_representations_test)\n",
        "label = []\n",
        "for i in enhancer_predict_Y:\n",
        "  if i[0] <= 0.5:\n",
        "    label.append(0)\n",
        "  else:\n",
        "    label.append(1)\n",
        "correct = 0\n",
        "for i in range(len(label)):\n",
        "  if label[i] == enhancer_test['label'][i]:\n",
        "    correct += 1\n",
        "correct / len(label)"
      ]
    },
    {
      "cell_type": "markdown",
      "metadata": {
        "id": "67w_uzk4FXFb"
      },
      "source": [
        "### CNN with CallBack"
      ]
    },
    {
      "cell_type": "code",
      "execution_count": null,
      "metadata": {
        "colab": {
          "base_uri": "https://localhost:8080/"
        },
        "id": "33AaqcPA_v60",
        "outputId": "c041bfe0-42e3-4057-8ae0-06c8d22cf8ee"
      },
      "outputs": [
        {
          "name": "stdout",
          "output_type": "stream",
          "text": [
            "Epoch 1/30\n",
            "371/371 [==============================] - 378s 1s/step - loss: 0.7620 - accuracy: 0.6937 - val_loss: 0.5382 - val_accuracy: 0.7325 - lr: 0.0010\n",
            "Epoch 2/30\n",
            "371/371 [==============================] - 386s 1s/step - loss: 0.5163 - accuracy: 0.7446 - val_loss: 0.5281 - val_accuracy: 0.7400 - lr: 0.0010\n",
            "Epoch 3/30\n",
            "371/371 [==============================] - ETA: 0s - loss: 0.4876 - accuracy: 0.7689\n",
            "Epoch 3: ReduceLROnPlateau reducing learning rate to 0.0002500000118743628.\n",
            "371/371 [==============================] - 393s 1s/step - loss: 0.4876 - accuracy: 0.7689 - val_loss: 0.5296 - val_accuracy: 0.7625 - lr: 0.0010\n",
            "Epoch 4/30\n",
            "371/371 [==============================] - ETA: 0s - loss: 0.3913 - accuracy: 0.8231\n",
            "Epoch 4: ReduceLROnPlateau reducing learning rate to 6.25000029685907e-05.\n",
            "371/371 [==============================] - 392s 1s/step - loss: 0.3913 - accuracy: 0.8231 - val_loss: 0.5831 - val_accuracy: 0.7450 - lr: 2.5000e-04\n"
          ]
        }
      ],
      "source": [
        "model_enhancer_cnn = tf.keras.models.Sequential([\n",
        "    tf.keras.layers.Conv2D(32, (3,3), activation='relu', input_shape=(202, 1562, 1)),\n",
        "    tf.keras.layers.MaxPooling2D(2,2),\n",
        "    tf.keras.layers.Conv2D(64, (3,3), activation='relu'),\n",
        "    tf.keras.layers.MaxPooling2D(2,2),\n",
        "    tf.keras.layers.Flatten(),  \n",
        "    tf.keras.layers.Dense(64, activation = 'relu'),\n",
        "    tf.keras.layers.Dense(1, activation = 'sigmoid')]\n",
        ")\n",
        "model_enhancer_cnn.compile(loss=tf.keras.losses.binary_crossentropy,\n",
        "                  optimizer='adam',\n",
        "                  metrics=['accuracy'])\n",
        "\n",
        "training_callbacks = [\n",
        "    tf.keras.callbacks.ReduceLROnPlateau(patience = 1, factor = 0.25, min_lr = 1e-5, verbose = 1),\n",
        "    tf.keras.callbacks.EarlyStopping(patience = 2, restore_best_weights = True),\n",
        "]\n",
        "\n",
        "history_stability_cnn_with_call_back = model_enhancer_cnn.fit(enhancer_local_representations_train, enhancer_train['label'], \n",
        "                                               validation_data=(enhancer_local_representations_test, enhancer_test['label']), \n",
        "                                               batch_size=8, epochs=30,\n",
        "                                               callbacks=training_callbacks)"
      ]
    },
    {
      "cell_type": "markdown",
      "metadata": {
        "id": "mgYpUuYCFjoi"
      },
      "source": [
        "### CNN without CallBack"
      ]
    },
    {
      "cell_type": "code",
      "execution_count": null,
      "metadata": {
        "colab": {
          "base_uri": "https://localhost:8080/"
        },
        "id": "iX1WX64rdyOg",
        "outputId": "908162ee-f919-4b76-e789-9da3780a123d"
      },
      "outputs": [
        {
          "output_type": "stream",
          "name": "stdout",
          "text": [
            "Epoch 1/30\n",
            "371/371 [==============================] - 407s 1s/step - loss: 0.6230 - accuracy: 0.7146\n",
            "Epoch 2/30\n",
            "371/371 [==============================] - 407s 1s/step - loss: 0.5063 - accuracy: 0.7540\n",
            "Epoch 3/30\n",
            "371/371 [==============================] - 410s 1s/step - loss: 0.4762 - accuracy: 0.7672\n",
            "Epoch 4/30\n",
            "371/371 [==============================] - 410s 1s/step - loss: 0.3992 - accuracy: 0.8201\n",
            "Epoch 5/30\n",
            "371/371 [==============================] - 409s 1s/step - loss: 0.2982 - accuracy: 0.8790\n",
            "Epoch 6/30\n",
            "371/371 [==============================] - 410s 1s/step - loss: 0.1404 - accuracy: 0.9511\n",
            "Epoch 7/30\n",
            "371/371 [==============================] - 411s 1s/step - loss: 0.0396 - accuracy: 0.9879\n",
            "Epoch 8/30\n",
            "371/371 [==============================] - 413s 1s/step - loss: 0.0085 - accuracy: 0.9990\n",
            "Epoch 9/30\n",
            "371/371 [==============================] - 415s 1s/step - loss: 0.0033 - accuracy: 0.9997\n",
            "Epoch 10/30\n",
            "371/371 [==============================] - 412s 1s/step - loss: 4.7087e-04 - accuracy: 1.0000\n",
            "Epoch 11/30\n",
            "371/371 [==============================] - 411s 1s/step - loss: 2.0490e-04 - accuracy: 1.0000\n",
            "Epoch 12/30\n",
            "371/371 [==============================] - 411s 1s/step - loss: 1.3318e-04 - accuracy: 1.0000\n",
            "Epoch 13/30\n",
            "371/371 [==============================] - 411s 1s/step - loss: 9.3997e-05 - accuracy: 1.0000\n",
            "Epoch 14/30\n",
            "371/371 [==============================] - 415s 1s/step - loss: 6.9289e-05 - accuracy: 1.0000\n",
            "Epoch 15/30\n",
            "371/371 [==============================] - 410s 1s/step - loss: 5.1999e-05 - accuracy: 1.0000\n",
            "Epoch 16/30\n",
            "371/371 [==============================] - 416s 1s/step - loss: 3.9709e-05 - accuracy: 1.0000\n",
            "Epoch 17/30\n",
            "371/371 [==============================] - 409s 1s/step - loss: 3.0461e-05 - accuracy: 1.0000\n",
            "Epoch 18/30\n",
            "371/371 [==============================] - 414s 1s/step - loss: 2.3619e-05 - accuracy: 1.0000\n",
            "Epoch 19/30\n",
            "371/371 [==============================] - 413s 1s/step - loss: 1.8451e-05 - accuracy: 1.0000\n",
            "Epoch 20/30\n",
            "371/371 [==============================] - 411s 1s/step - loss: 1.4464e-05 - accuracy: 1.0000\n",
            "Epoch 21/30\n",
            "371/371 [==============================] - 412s 1s/step - loss: 1.1549e-05 - accuracy: 1.0000\n",
            "Epoch 22/30\n",
            "371/371 [==============================] - 411s 1s/step - loss: 9.1961e-06 - accuracy: 1.0000\n",
            "Epoch 23/30\n",
            "371/371 [==============================] - 416s 1s/step - loss: 7.3253e-06 - accuracy: 1.0000\n",
            "Epoch 24/30\n",
            "371/371 [==============================] - 414s 1s/step - loss: 5.8542e-06 - accuracy: 1.0000\n",
            "Epoch 25/30\n",
            "371/371 [==============================] - 412s 1s/step - loss: 4.7657e-06 - accuracy: 1.0000\n",
            "Epoch 26/30\n",
            "371/371 [==============================] - 411s 1s/step - loss: 3.8313e-06 - accuracy: 1.0000\n",
            "Epoch 27/30\n",
            "371/371 [==============================] - 412s 1s/step - loss: 3.1643e-06 - accuracy: 1.0000\n",
            "Epoch 28/30\n",
            "371/371 [==============================] - 411s 1s/step - loss: 2.5684e-06 - accuracy: 1.0000\n",
            "Epoch 29/30\n",
            "371/371 [==============================] - 411s 1s/step - loss: 2.0925e-06 - accuracy: 1.0000\n",
            "Epoch 30/30\n",
            "371/371 [==============================] - 411s 1s/step - loss: 1.7339e-06 - accuracy: 1.0000\n"
          ]
        }
      ],
      "source": [
        "model_enhancer_cnn = tf.keras.models.Sequential([\n",
        "    tf.keras.layers.Conv2D(32, (3,3), activation='relu', input_shape=(202, 1562, 1)),\n",
        "    tf.keras.layers.MaxPooling2D(2,2),\n",
        "    tf.keras.layers.Conv2D(64, (3,3), activation='relu'),\n",
        "    tf.keras.layers.MaxPooling2D(2,2),\n",
        "    tf.keras.layers.Flatten(),  \n",
        "    tf.keras.layers.Dense(64, activation = 'relu'),\n",
        "    tf.keras.layers.Dense(1, activation = 'sigmoid')]\n",
        ")\n",
        "\n",
        "model_enhancer_cnn.compile(loss=tf.keras.losses.binary_crossentropy,\n",
        "                  optimizer='adam',\n",
        "                  metrics=['accuracy'])\n",
        "\n",
        "history_stability_cnn = model_enhancer_cnn.fit(enhancer_local_representations_train, enhancer_train['label'], \n",
        "                                               batch_size=8, epochs=30)"
      ]
    },
    {
      "cell_type": "code",
      "execution_count": null,
      "metadata": {
        "id": "5JGzkOqqE8N-",
        "colab": {
          "base_uri": "https://localhost:8080/"
        },
        "outputId": "f7802591-7268-4b9f-c41e-ccc529567f86"
      },
      "outputs": [
        {
          "output_type": "stream",
          "name": "stdout",
          "text": [
            "13/13 [==============================] - 6s 425ms/step\n"
          ]
        },
        {
          "output_type": "execute_result",
          "data": {
            "text/plain": [
              "0.765"
            ]
          },
          "metadata": {},
          "execution_count": 18
        }
      ],
      "source": [
        "enhancer_predict_Y_cnn = model_enhancer_cnn.predict(enhancer_local_representations_test)\n",
        "label = []\n",
        "for i in enhancer_predict_Y_cnn:\n",
        "  if i[0] <= 0.5:\n",
        "    label.append(0)\n",
        "  else:\n",
        "    label.append(1)\n",
        "correct = 0\n",
        "for i in range(len(label)):\n",
        "  if label[i] == enhancer_test['label'][i]:\n",
        "    correct += 1\n",
        "correct / len(label)"
      ]
    },
    {
      "cell_type": "code",
      "source": [],
      "metadata": {
        "id": "Xj6CPTytPuuB"
      },
      "execution_count": null,
      "outputs": []
    },
    {
      "cell_type": "code",
      "execution_count": null,
      "metadata": {
        "id": "6BNx843GBD-6"
      },
      "outputs": [],
      "source": [
        "from tensorflow.keras.applications.inception_v3 import InceptionV3\n",
        "from tensorflow.keras.preprocessing.sequence import pad_sequences"
      ]
    },
    {
      "cell_type": "code",
      "execution_count": null,
      "metadata": {
        "id": "iisXqSKBQnnF"
      },
      "outputs": [],
      "source": [
        "'''\n",
        "train = pd.read_csv('protein_bert/protein_benchmarks/stability.train.csv')[:2000]\n",
        "valid = pd.read_csv('protein_bert/protein_benchmarks/stability.valid.csv')[:300]\n",
        "test = pd.read_csv('protein_bert/protein_benchmarks/stability.test.csv')[:300]\n",
        "\n",
        "train_X = train['seq']\n",
        "valid_X = valid['seq']\n",
        "test_X = test['seq']\n",
        "\n",
        "padded_sequences = pad_sequences(train_X, maxlen=75, padding='pre')\n",
        "\n",
        "'''"
      ]
    },
    {
      "cell_type": "code",
      "execution_count": null,
      "metadata": {
        "id": "W_XE5MkkKlnj"
      },
      "outputs": [],
      "source": [
        "'''\n",
        "print(local_representations_train.shape)\n",
        "zeros = np.array([np.zeros(1562) for _ in range(23)]).reshape(1, 23, 1562)\n",
        "print(zeros.shape)\n",
        "local_representations_train = np.append(local_representations_train, values = zeros, axis = 2)\n",
        "print(local_representations_train.shape)\n",
        "'''"
      ]
    },
    {
      "cell_type": "code",
      "execution_count": null,
      "metadata": {
        "id": "mfbx-Nx0AVxn"
      },
      "outputs": [],
      "source": [
        "'''\n",
        "pre_trained_cnn = InceptionV3(input_shape = (52, 1562, 1),\n",
        "                                  include_top = False, \n",
        "                                  weights = None).load_weights('/tmp/inception_v3_weights_tf_dim_ordering_tf_kernels_notop.h5')\n",
        "\n",
        "pre_trained_cnn.summary()\n",
        "'''"
      ]
    }
  ],
  "metadata": {
    "accelerator": "TPU",
    "colab": {
      "machine_shape": "hm",
      "provenance": [],
      "authorship_tag": "ABX9TyMjnNvEMsQwm7khmUEC3Fvz",
      "include_colab_link": true
    },
    "gpuClass": "standard",
    "kernelspec": {
      "display_name": "Python 3",
      "name": "python3"
    },
    "language_info": {
      "name": "python"
    }
  },
  "nbformat": 4,
  "nbformat_minor": 0
}